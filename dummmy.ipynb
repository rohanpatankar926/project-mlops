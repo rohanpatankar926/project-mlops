{
 "cells": [
  {
   "cell_type": "code",
   "execution_count": 1,
   "metadata": {},
   "outputs": [
    {
     "data": {
      "text/plain": [
       "datetime.datetime(2022, 12, 17, 10, 49, 47, 301879)"
      ]
     },
     "execution_count": 1,
     "metadata": {},
     "output_type": "execute_result"
    }
   ],
   "source": [
    "from datetime import datetime\n",
    "datetime.now()"
   ]
  },
  {
   "cell_type": "code",
   "execution_count": 4,
   "metadata": {},
   "outputs": [
    {
     "data": {
      "text/plain": [
       "'12172022__105131.log'"
      ]
     },
     "execution_count": 4,
     "metadata": {},
     "output_type": "execute_result"
    }
   ],
   "source": [
    "LOG_FILE_NAME=f\"{datetime.now().strftime('%m%d%Y__%H%M%S')}.log\"\n",
    "LOG_FILE_NAME"
   ]
  },
  {
   "cell_type": "code",
   "execution_count": 8,
   "metadata": {},
   "outputs": [],
   "source": [
    "import sys\n",
    "def error_message_details(error,error_details:sys):\n",
    "    _,_,exc_tb=error_details.exc_info()\n",
    "    file_name=exc_tb.tb_frame.f_code.co_filename\n",
    "    error_message=\"Error occured in python script named [{0}] line number [{1}]\".format(file_name,exc_tb.tb_lineno)\n",
    "    return error_message\n"
   ]
  },
  {
   "cell_type": "code",
   "execution_count": 12,
   "metadata": {},
   "outputs": [
    {
     "ename": "AttributeError",
     "evalue": "'NoneType' object has no attribute 'tb_frame'",
     "output_type": "error",
     "traceback": [
      "\u001b[1;31m---------------------------------------------------------------------------\u001b[0m",
      "\u001b[1;31mAttributeError\u001b[0m                            Traceback (most recent call last)",
      "Cell \u001b[1;32mIn[12], line 2\u001b[0m\n\u001b[0;32m      1\u001b[0m _,_,exc_tb\u001b[39m=\u001b[39msys\u001b[39m.\u001b[39mexc_info()\n\u001b[1;32m----> 2\u001b[0m file_name\u001b[39m=\u001b[39mexc_tb\u001b[39m.\u001b[39;49mtb_frame\u001b[39m.\u001b[39mf_code\u001b[39m.\u001b[39mco_filename\n\u001b[0;32m      3\u001b[0m \u001b[39mprint\u001b[39m(file_name)\n",
      "\u001b[1;31mAttributeError\u001b[0m: 'NoneType' object has no attribute 'tb_frame'"
     ]
    }
   ],
   "source": [
    "_,_,exc_tb=sys.exc_info()\n",
    "file_name=exc_tb.tb_frame.f_code.co_filename\n",
    "print(file_name)"
   ]
  },
  {
   "cell_type": "code",
   "execution_count": 13,
   "metadata": {},
   "outputs": [
    {
     "name": "stdout",
     "output_type": "stream",
     "text": [
      "Environment Variables is being called\n"
     ]
    },
    {
     "data": {
      "text/plain": [
       "<pymongo.cursor.Cursor at 0x1bd0ddddf30>"
      ]
     },
     "execution_count": 13,
     "metadata": {},
     "output_type": "execute_result"
    }
   ],
   "source": [
    "from sensor.config import mongo_client\n",
    "import pandas as pd\n",
    "database_name=\"sensor-database\"\n",
    "collection_name=\"sensor-data\"\n",
    "df=pd.DataFrame(list(mongo_client[database_name][collection_name].find()))"
   ]
  },
  {
   "cell_type": "code",
   "execution_count": null,
   "metadata": {},
   "outputs": [],
   "source": []
  }
 ],
 "metadata": {
  "kernelspec": {
   "display_name": "Python 3",
   "language": "python",
   "name": "python3"
  },
  "language_info": {
   "codemirror_mode": {
    "name": "ipython",
    "version": 3
   },
   "file_extension": ".py",
   "mimetype": "text/x-python",
   "name": "python",
   "nbconvert_exporter": "python",
   "pygments_lexer": "ipython3",
   "version": "3.10.7"
  },
  "orig_nbformat": 4,
  "vscode": {
   "interpreter": {
    "hash": "d86327c2540d1e6432dca5e4a6893ddb198cdc6c09c7108f4bfe5ecd927c76fe"
   }
  }
 },
 "nbformat": 4,
 "nbformat_minor": 2
}
